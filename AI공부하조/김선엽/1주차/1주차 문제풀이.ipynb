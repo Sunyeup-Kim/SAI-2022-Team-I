{
  "nbformat": 4,
  "nbformat_minor": 0,
  "metadata": {
    "colab": {
      "name": "Untitled4.ipynb",
      "provenance": []
    },
    "kernelspec": {
      "name": "python3",
      "display_name": "Python 3"
    },
    "language_info": {
      "name": "python"
    }
  },
  "cells": [
    {
      "cell_type": "markdown",
      "source": [
        "# 문제 1\n",
        "4번"
      ],
      "metadata": {
        "id": "lfehPLl6BD63"
      }
    },
    {
      "cell_type": "markdown",
      "source": [
        "# 문제 2\n",
        "3 번, 5 번"
      ],
      "metadata": {
        "id": "XbR4Zp0KBHyV"
      }
    },
    {
      "cell_type": "markdown",
      "source": [
        "# 문제 3"
      ],
      "metadata": {
        "id": "2Oe3uRgKBKHk"
      }
    },
    {
      "cell_type": "code",
      "source": [
        "# 필요한 라이브러리와 데이터 로드\n",
        "import matplotlib.pyplot as plt\n",
        "import pandas as pd\n",
        "import numpy as np\n",
        "\n",
        "from sklearn.datasets import load_iris\n",
        "iris_raw = load_iris(as_frame=True)\n",
        "\n",
        "iris_data = iris_raw['data']\n",
        "iris_target = iris_raw['target']\n",
        "\n",
        "iris_data.columns"
      ],
      "metadata": {
        "colab": {
          "base_uri": "https://localhost:8080/"
        },
        "id": "NKYGVQc-BMwW",
        "outputId": "270a8299-da66-46d3-9f3d-6cdcbfd80a7a"
      },
      "execution_count": 1,
      "outputs": [
        {
          "output_type": "execute_result",
          "data": {
            "text/plain": [
              "Index(['sepal length (cm)', 'sepal width (cm)', 'petal length (cm)',\n",
              "       'petal width (cm)'],\n",
              "      dtype='object')"
            ]
          },
          "metadata": {},
          "execution_count": 1
        }
      ]
    },
    {
      "cell_type": "code",
      "execution_count": 2,
      "metadata": {
        "colab": {
          "base_uri": "https://localhost:8080/",
          "height": 562
        },
        "id": "a1AKRhsMBDYv",
        "outputId": "b12d796d-6a78-4ad2-e4a7-e5d6d3a1d5b9"
      },
      "outputs": [
        {
          "output_type": "execute_result",
          "data": {
            "text/plain": [
              "Text(0, 0.5, 'petal width (cm)')"
            ]
          },
          "metadata": {},
          "execution_count": 2
        },
        {
          "output_type": "display_data",
          "data": {
            "text/plain": [
              "<Figure size 432x288 with 1 Axes>"
            ],
            "image/png": "[encoded data removed]"
          },
          "metadata": {
            "needs_background": "light"
          }
        },
        {
          "output_type": "display_data",
          "data": {
            "text/plain": [
              "<Figure size 432x288 with 1 Axes>"
            ],
            "image/png": "[encoded data removed]"
          },
          "metadata": {
            "needs_background": "light"
          }
        }
      ],
      "source": [
        "fig0, ax0 = plt.subplots()\n",
        "fig1, ax1 = plt.subplots()\n",
        "\n",
        "ax0.scatter(iris_data['sepal length (cm)'], iris_data['sepal width (cm)'], color='red')\n",
        "ax0.set_xlabel('sepal length (cm)')\n",
        "ax0.set_ylabel('sepal width (cm)')\n",
        "\n",
        "\n",
        "ax1.scatter(iris_data['petal length (cm)'], iris_data['petal width (cm)'], color='blue')\n",
        "ax1.set_xlabel('petal length (cm)')\n",
        "ax1.set_ylabel('petal width (cm)')"
      ]
    },
    {
      "cell_type": "markdown",
      "source": [
        "# 문제 4"
      ],
      "metadata": {
        "id": "Nu4BTb_NBPHZ"
      }
    },
    {
      "cell_type": "code",
      "source": [
        "mean = np.mean(iris_data, axis=0)\n",
        "std = np.std(iris_data, axis=0)\n",
        "\n",
        "iris_std = (iris_data - mean) / std\n",
        "\n",
        "fig0, ax0 = plt.subplots()\n",
        "fig1, ax1 = plt.subplots() \n",
        "ax0.scatter(iris_std['sepal length (cm)'], iris_std['sepal width (cm)'], color='red')\n",
        "ax0.set_xlabel('sepal length')\n",
        "ax0.set_ylabel('sepal width')\n",
        "\n",
        "\n",
        "ax1.scatter(iris_std['petal length (cm)'], iris_std['petal width (cm)'], color='blue')\n",
        "ax1.set_xlabel('petal length')\n",
        "ax1.set_ylabel('petal width')"
      ],
      "metadata": {
        "colab": {
          "base_uri": "https://localhost:8080/",
          "height": 560
        },
        "id": "gDLiv_r_BOOr",
        "outputId": "36dafb89-a324-41aa-f3ed-c4a21c732343"
      },
      "execution_count": 3,
      "outputs": [
        {
          "output_type": "execute_result",
          "data": {
            "text/plain": [
              "Text(0, 0.5, 'petal width')"
            ]
          },
          "metadata": {},
          "execution_count": 3
        },
        {
          "output_type": "display_data",
          "data": {
            "text/plain": [
              "<Figure size 432x288 with 1 Axes>"
            ],
            "image/png": "[encoded data removed]"
          },
          "metadata": {
            "needs_background": "light"
          }
        },
        {
          "output_type": "display_data",
          "data": {
            "text/plain": [
              "<Figure size 432x288 with 1 Axes>"
            ],
            "image/png": "[encoded data removed]"
          },
          "metadata": {
            "needs_background": "light"
          }
        }
      ]
    },
    {
      "cell_type": "markdown",
      "source": [
        "# 문제 5"
      ],
      "metadata": {
        "id": "lhHnItXHBUJI"
      }
    },
    {
      "cell_type": "code",
      "source": [
        "from sklearn import datasets,preprocessing\n",
        "import numpy as np\n",
        "from matplotlib import pyplot as plt\n",
        "\n",
        "wine = datasets.load_wine(as_frame=True)\n",
        "\n",
        "X_scaled = preprocessing.scale(wine.data)\n",
        "\n",
        "from sklearn.model_selection import train_test_split\n",
        "\n",
        "X_train, X_test, y_train, y_test = train_test_split(X_scaled, wine.target, test_size= 0.25 )\n",
        "# test_size: test_data와 train_data를 나눌 비율을 설정하는 parameter\n",
        "\n",
        "from sklearn.neighbors import KNeighborsClassifier\n",
        "\n",
        "knn = KNeighborsClassifier(n_neighbors= 5)\n",
        "# n_neighbors: 새로운 데이터를 classify 할때, 몇개의 근처 데이터를 확인할지 설정하는 parameter\n",
        "\n",
        "knn.fit(X_train, y_train)\n",
        "knn.score(X_test, y_test)"
      ],
      "metadata": {
        "colab": {
          "base_uri": "https://localhost:8080/"
        },
        "id": "Eiqnd-eLBS_t",
        "outputId": "15c52a17-6d05-4d17-c3cd-03b0a2c611c5"
      },
      "execution_count": 4,
      "outputs": [
        {
          "output_type": "execute_result",
          "data": {
            "text/plain": [
              "0.9777777777777777"
            ]
          },
          "metadata": {},
          "execution_count": 4
        }
      ]
    }
  ]
}